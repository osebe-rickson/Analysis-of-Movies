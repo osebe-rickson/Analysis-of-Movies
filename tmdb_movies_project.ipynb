{
 "cells": [
  {
   "cell_type": "markdown",
   "metadata": {},
   "source": [
    "# Project: Investigation on a tmbd dataset\n",
    "\n",
    "## Table of Contents\n",
    "<ul>\n",
    "<li><a href=\"#intro\">Introduction</a></li>\n",
    "<li><a href=\"#wrangling\">Data Wrangling</a></li>\n",
    "<li><a href=\"#eda\">Exploratory Data Analysis</a></li>\n",
    "<li><a href=\"#conclusions\">Conclusions</a></li>\n",
    "</ul>"
   ]
  },
  {
   "cell_type": "markdown",
   "metadata": {},
   "source": [
    "<a id='intro'></a>\n",
    "## Introduction\n",
    "**tmd-movies dataset, is a dataset containing information on 10866 movies together with 21 attributes that are linked to each movie.**\n",
    " \n",
    " 0   id                    :Shows the unique identification of the movie\n",
    "        \n",
    " 1   imdb_id               :Shows the unique identification of the movie by imdb\n",
    "    \n",
    " 2   popularity            :shows how popular is the movie\n",
    "    \n",
    " 3   budget                :describes the movies initial expenditure \n",
    "    \n",
    " 4   revenue               :describes the returns of the movie \n",
    "    \n",
    " 5   original_title        :shows the movies original name\n",
    "    \n",
    " 6   cast                  :shows the actors in the movie \n",
    "    \n",
    " 7   homepage              :describes the movie's website\n",
    "    \n",
    " 8   director              :shows the movies director\n",
    "    \n",
    " 9   tagline               :describes short text to clarify a thought\n",
    "    \n",
    " 10  keywords              :shows main words that generally describe the movie\n",
    "    \n",
    " 11  overview              :shows the short description of the movie\n",
    "    \n",
    " 12  runtime               :shows the length of the movie\n",
    "    \n",
    " 13  genres                :shows the movie's themes\n",
    "    \n",
    " 14  production_companies  :describes the production companies\n",
    "    \n",
    " 15  release_date          :shows when the movie was released\n",
    "    \n",
    " 16  vote_count            : shows how many imbd users have voted for the movie\n",
    "    \n",
    " 17  vote_average          :shows the mean vote\n",
    "    \n",
    " 18  release_year          :shows year of release\n",
    "    \n",
    " 19  budget_adj            :shows adjustment to budget of the movie\n",
    "    \n",
    " 20  revenue_adj           :shows adjustment of revenue of the movie"
   ]
  },
  {
   "cell_type": "markdown",
   "metadata": {},
   "source": [
    "## Questions\n",
    "1. which are the top popular movies?\n",
    "\n",
    "2. Which are the top years in terms of movies release?\n",
    "\n",
    "3. Who are the top directors in movies release?\n",
    "\n",
    "4. Do popular movies happen to be top rated movies?\n",
    "\n",
    "5. Which are the highly rated genres?\n",
    "\n",
    "6. Does the length of a movie affect its rating?\n"
   ]
  },
  {
   "cell_type": "code",
   "execution_count": 1,
   "metadata": {},
   "outputs": [],
   "source": [
    "import pandas as pd\n",
    "import numpy as np\n",
    "import seaborn as sns\n",
    "import matplotlib.pyplot as plt\n",
    "%matplotlib inline"
   ]
  },
  {
   "cell_type": "markdown",
   "metadata": {},
   "source": [
    "<a id='wrangling'></a>\n",
    "## Data Wrangling\n",
    "\n",
    "\n",
    "### General Properties"
   ]
  },
  {
   "cell_type": "code",
   "execution_count": 2,
   "metadata": {},
   "outputs": [
    {
     "data": {
      "text/html": [
       "<div>\n",
       "<style scoped>\n",
       "    .dataframe tbody tr th:only-of-type {\n",
       "        vertical-align: middle;\n",
       "    }\n",
       "\n",
       "    .dataframe tbody tr th {\n",
       "        vertical-align: top;\n",
       "    }\n",
       "\n",
       "    .dataframe thead th {\n",
       "        text-align: right;\n",
       "    }\n",
       "</style>\n",
       "<table border=\"1\" class=\"dataframe\">\n",
       "  <thead>\n",
       "    <tr style=\"text-align: right;\">\n",
       "      <th></th>\n",
       "      <th>id</th>\n",
       "      <th>imdb_id</th>\n",
       "      <th>popularity</th>\n",
       "      <th>budget</th>\n",
       "      <th>revenue</th>\n",
       "      <th>original_title</th>\n",
       "      <th>cast</th>\n",
       "      <th>homepage</th>\n",
       "      <th>director</th>\n",
       "      <th>tagline</th>\n",
       "      <th>...</th>\n",
       "      <th>overview</th>\n",
       "      <th>runtime</th>\n",
       "      <th>genres</th>\n",
       "      <th>production_companies</th>\n",
       "      <th>release_date</th>\n",
       "      <th>vote_count</th>\n",
       "      <th>vote_average</th>\n",
       "      <th>release_year</th>\n",
       "      <th>budget_adj</th>\n",
       "      <th>revenue_adj</th>\n",
       "    </tr>\n",
       "  </thead>\n",
       "  <tbody>\n",
       "    <tr>\n",
       "      <th>0</th>\n",
       "      <td>135397</td>\n",
       "      <td>tt0369610</td>\n",
       "      <td>32.985763</td>\n",
       "      <td>150000000</td>\n",
       "      <td>1513528810</td>\n",
       "      <td>Jurassic World</td>\n",
       "      <td>Chris Pratt|Bryce Dallas Howard|Irrfan Khan|Vi...</td>\n",
       "      <td>http://www.jurassicworld.com/</td>\n",
       "      <td>Colin Trevorrow</td>\n",
       "      <td>The park is open.</td>\n",
       "      <td>...</td>\n",
       "      <td>Twenty-two years after the events of Jurassic ...</td>\n",
       "      <td>124</td>\n",
       "      <td>Action|Adventure|Science Fiction|Thriller</td>\n",
       "      <td>Universal Studios|Amblin Entertainment|Legenda...</td>\n",
       "      <td>6/9/15</td>\n",
       "      <td>5562</td>\n",
       "      <td>6.5</td>\n",
       "      <td>2015</td>\n",
       "      <td>1.379999e+08</td>\n",
       "      <td>1.392446e+09</td>\n",
       "    </tr>\n",
       "    <tr>\n",
       "      <th>1</th>\n",
       "      <td>76341</td>\n",
       "      <td>tt1392190</td>\n",
       "      <td>28.419936</td>\n",
       "      <td>150000000</td>\n",
       "      <td>378436354</td>\n",
       "      <td>Mad Max: Fury Road</td>\n",
       "      <td>Tom Hardy|Charlize Theron|Hugh Keays-Byrne|Nic...</td>\n",
       "      <td>http://www.madmaxmovie.com/</td>\n",
       "      <td>George Miller</td>\n",
       "      <td>What a Lovely Day.</td>\n",
       "      <td>...</td>\n",
       "      <td>An apocalyptic story set in the furthest reach...</td>\n",
       "      <td>120</td>\n",
       "      <td>Action|Adventure|Science Fiction|Thriller</td>\n",
       "      <td>Village Roadshow Pictures|Kennedy Miller Produ...</td>\n",
       "      <td>5/13/15</td>\n",
       "      <td>6185</td>\n",
       "      <td>7.1</td>\n",
       "      <td>2015</td>\n",
       "      <td>1.379999e+08</td>\n",
       "      <td>3.481613e+08</td>\n",
       "    </tr>\n",
       "    <tr>\n",
       "      <th>2</th>\n",
       "      <td>262500</td>\n",
       "      <td>tt2908446</td>\n",
       "      <td>13.112507</td>\n",
       "      <td>110000000</td>\n",
       "      <td>295238201</td>\n",
       "      <td>Insurgent</td>\n",
       "      <td>Shailene Woodley|Theo James|Kate Winslet|Ansel...</td>\n",
       "      <td>http://www.thedivergentseries.movie/#insurgent</td>\n",
       "      <td>Robert Schwentke</td>\n",
       "      <td>One Choice Can Destroy You</td>\n",
       "      <td>...</td>\n",
       "      <td>Beatrice Prior must confront her inner demons ...</td>\n",
       "      <td>119</td>\n",
       "      <td>Adventure|Science Fiction|Thriller</td>\n",
       "      <td>Summit Entertainment|Mandeville Films|Red Wago...</td>\n",
       "      <td>3/18/15</td>\n",
       "      <td>2480</td>\n",
       "      <td>6.3</td>\n",
       "      <td>2015</td>\n",
       "      <td>1.012000e+08</td>\n",
       "      <td>2.716190e+08</td>\n",
       "    </tr>\n",
       "    <tr>\n",
       "      <th>3</th>\n",
       "      <td>140607</td>\n",
       "      <td>tt2488496</td>\n",
       "      <td>11.173104</td>\n",
       "      <td>200000000</td>\n",
       "      <td>2068178225</td>\n",
       "      <td>Star Wars: The Force Awakens</td>\n",
       "      <td>Harrison Ford|Mark Hamill|Carrie Fisher|Adam D...</td>\n",
       "      <td>http://www.starwars.com/films/star-wars-episod...</td>\n",
       "      <td>J.J. Abrams</td>\n",
       "      <td>Every generation has a story.</td>\n",
       "      <td>...</td>\n",
       "      <td>Thirty years after defeating the Galactic Empi...</td>\n",
       "      <td>136</td>\n",
       "      <td>Action|Adventure|Science Fiction|Fantasy</td>\n",
       "      <td>Lucasfilm|Truenorth Productions|Bad Robot</td>\n",
       "      <td>12/15/15</td>\n",
       "      <td>5292</td>\n",
       "      <td>7.5</td>\n",
       "      <td>2015</td>\n",
       "      <td>1.839999e+08</td>\n",
       "      <td>1.902723e+09</td>\n",
       "    </tr>\n",
       "    <tr>\n",
       "      <th>4</th>\n",
       "      <td>168259</td>\n",
       "      <td>tt2820852</td>\n",
       "      <td>9.335014</td>\n",
       "      <td>190000000</td>\n",
       "      <td>1506249360</td>\n",
       "      <td>Furious 7</td>\n",
       "      <td>Vin Diesel|Paul Walker|Jason Statham|Michelle ...</td>\n",
       "      <td>http://www.furious7.com/</td>\n",
       "      <td>James Wan</td>\n",
       "      <td>Vengeance Hits Home</td>\n",
       "      <td>...</td>\n",
       "      <td>Deckard Shaw seeks revenge against Dominic Tor...</td>\n",
       "      <td>137</td>\n",
       "      <td>Action|Crime|Thriller</td>\n",
       "      <td>Universal Pictures|Original Film|Media Rights ...</td>\n",
       "      <td>4/1/15</td>\n",
       "      <td>2947</td>\n",
       "      <td>7.3</td>\n",
       "      <td>2015</td>\n",
       "      <td>1.747999e+08</td>\n",
       "      <td>1.385749e+09</td>\n",
       "    </tr>\n",
       "  </tbody>\n",
       "</table>\n",
       "<p>5 rows × 21 columns</p>\n",
       "</div>"
      ],
      "text/plain": [
       "       id    imdb_id  popularity     budget     revenue  \\\n",
       "0  135397  tt0369610   32.985763  150000000  1513528810   \n",
       "1   76341  tt1392190   28.419936  150000000   378436354   \n",
       "2  262500  tt2908446   13.112507  110000000   295238201   \n",
       "3  140607  tt2488496   11.173104  200000000  2068178225   \n",
       "4  168259  tt2820852    9.335014  190000000  1506249360   \n",
       "\n",
       "                 original_title  \\\n",
       "0                Jurassic World   \n",
       "1            Mad Max: Fury Road   \n",
       "2                     Insurgent   \n",
       "3  Star Wars: The Force Awakens   \n",
       "4                     Furious 7   \n",
       "\n",
       "                                                cast  \\\n",
       "0  Chris Pratt|Bryce Dallas Howard|Irrfan Khan|Vi...   \n",
       "1  Tom Hardy|Charlize Theron|Hugh Keays-Byrne|Nic...   \n",
       "2  Shailene Woodley|Theo James|Kate Winslet|Ansel...   \n",
       "3  Harrison Ford|Mark Hamill|Carrie Fisher|Adam D...   \n",
       "4  Vin Diesel|Paul Walker|Jason Statham|Michelle ...   \n",
       "\n",
       "                                            homepage          director  \\\n",
       "0                      http://www.jurassicworld.com/   Colin Trevorrow   \n",
       "1                        http://www.madmaxmovie.com/     George Miller   \n",
       "2     http://www.thedivergentseries.movie/#insurgent  Robert Schwentke   \n",
       "3  http://www.starwars.com/films/star-wars-episod...       J.J. Abrams   \n",
       "4                           http://www.furious7.com/         James Wan   \n",
       "\n",
       "                         tagline      ...       \\\n",
       "0              The park is open.      ...        \n",
       "1             What a Lovely Day.      ...        \n",
       "2     One Choice Can Destroy You      ...        \n",
       "3  Every generation has a story.      ...        \n",
       "4            Vengeance Hits Home      ...        \n",
       "\n",
       "                                            overview runtime  \\\n",
       "0  Twenty-two years after the events of Jurassic ...     124   \n",
       "1  An apocalyptic story set in the furthest reach...     120   \n",
       "2  Beatrice Prior must confront her inner demons ...     119   \n",
       "3  Thirty years after defeating the Galactic Empi...     136   \n",
       "4  Deckard Shaw seeks revenge against Dominic Tor...     137   \n",
       "\n",
       "                                      genres  \\\n",
       "0  Action|Adventure|Science Fiction|Thriller   \n",
       "1  Action|Adventure|Science Fiction|Thriller   \n",
       "2         Adventure|Science Fiction|Thriller   \n",
       "3   Action|Adventure|Science Fiction|Fantasy   \n",
       "4                      Action|Crime|Thriller   \n",
       "\n",
       "                                production_companies release_date vote_count  \\\n",
       "0  Universal Studios|Amblin Entertainment|Legenda...       6/9/15       5562   \n",
       "1  Village Roadshow Pictures|Kennedy Miller Produ...      5/13/15       6185   \n",
       "2  Summit Entertainment|Mandeville Films|Red Wago...      3/18/15       2480   \n",
       "3          Lucasfilm|Truenorth Productions|Bad Robot     12/15/15       5292   \n",
       "4  Universal Pictures|Original Film|Media Rights ...       4/1/15       2947   \n",
       "\n",
       "   vote_average  release_year    budget_adj   revenue_adj  \n",
       "0           6.5          2015  1.379999e+08  1.392446e+09  \n",
       "1           7.1          2015  1.379999e+08  3.481613e+08  \n",
       "2           6.3          2015  1.012000e+08  2.716190e+08  \n",
       "3           7.5          2015  1.839999e+08  1.902723e+09  \n",
       "4           7.3          2015  1.747999e+08  1.385749e+09  \n",
       "\n",
       "[5 rows x 21 columns]"
      ]
     },
     "execution_count": 2,
     "metadata": {},
     "output_type": "execute_result"
    }
   ],
   "source": [
    "movies = pd.read_csv('./Database_TMDb_movie_data/tmdb-movies.csv')\n",
    "movies.head()"
   ]
  },
  {
   "cell_type": "code",
   "execution_count": 3,
   "metadata": {},
   "outputs": [],
   "source": [
    "#function for quick general properties\n",
    "def general_properties(dataset):\n",
    "    print('shape :','#find rows and columns') \n",
    "    print(dataset.shape)\n",
    "    print('information :', '#get an overview if their might be nulls')\n",
    "    print(dataset.info())\n",
    "    print('description :','#get some statistics on the data')\n",
    "    print( dataset.describe())"
   ]
  },
  {
   "cell_type": "code",
   "execution_count": 4,
   "metadata": {},
   "outputs": [
    {
     "name": "stdout",
     "output_type": "stream",
     "text": [
      "shape : #find rows and columns\n",
      "(10866, 21)\n",
      "information : #get an overview if their might be nulls\n",
      "<class 'pandas.core.frame.DataFrame'>\n",
      "RangeIndex: 10866 entries, 0 to 10865\n",
      "Data columns (total 21 columns):\n",
      "id                      10866 non-null int64\n",
      "imdb_id                 10856 non-null object\n",
      "popularity              10866 non-null float64\n",
      "budget                  10866 non-null int64\n",
      "revenue                 10866 non-null int64\n",
      "original_title          10866 non-null object\n",
      "cast                    10790 non-null object\n",
      "homepage                2936 non-null object\n",
      "director                10822 non-null object\n",
      "tagline                 8042 non-null object\n",
      "keywords                9373 non-null object\n",
      "overview                10862 non-null object\n",
      "runtime                 10866 non-null int64\n",
      "genres                  10843 non-null object\n",
      "production_companies    9836 non-null object\n",
      "release_date            10866 non-null object\n",
      "vote_count              10866 non-null int64\n",
      "vote_average            10866 non-null float64\n",
      "release_year            10866 non-null int64\n",
      "budget_adj              10866 non-null float64\n",
      "revenue_adj             10866 non-null float64\n",
      "dtypes: float64(4), int64(6), object(11)\n",
      "memory usage: 1.7+ MB\n",
      "None\n",
      "description : #get some statistics on the data\n",
      "                  id    popularity        budget       revenue       runtime  \\\n",
      "count   10866.000000  10866.000000  1.086600e+04  1.086600e+04  10866.000000   \n",
      "mean    66064.177434      0.646441  1.462570e+07  3.982332e+07    102.070863   \n",
      "std     92130.136561      1.000185  3.091321e+07  1.170035e+08     31.381405   \n",
      "min         5.000000      0.000065  0.000000e+00  0.000000e+00      0.000000   \n",
      "25%     10596.250000      0.207583  0.000000e+00  0.000000e+00     90.000000   \n",
      "50%     20669.000000      0.383856  0.000000e+00  0.000000e+00     99.000000   \n",
      "75%     75610.000000      0.713817  1.500000e+07  2.400000e+07    111.000000   \n",
      "max    417859.000000     32.985763  4.250000e+08  2.781506e+09    900.000000   \n",
      "\n",
      "         vote_count  vote_average  release_year    budget_adj   revenue_adj  \n",
      "count  10866.000000  10866.000000  10866.000000  1.086600e+04  1.086600e+04  \n",
      "mean     217.389748      5.974922   2001.322658  1.755104e+07  5.136436e+07  \n",
      "std      575.619058      0.935142     12.812941  3.430616e+07  1.446325e+08  \n",
      "min       10.000000      1.500000   1960.000000  0.000000e+00  0.000000e+00  \n",
      "25%       17.000000      5.400000   1995.000000  0.000000e+00  0.000000e+00  \n",
      "50%       38.000000      6.000000   2006.000000  0.000000e+00  0.000000e+00  \n",
      "75%      145.750000      6.600000   2011.000000  2.085325e+07  3.369710e+07  \n",
      "max     9767.000000      9.200000   2015.000000  4.250000e+08  2.827124e+09  \n"
     ]
    }
   ],
   "source": [
    "general_properties(movies)"
   ]
  },
  {
   "cell_type": "code",
   "execution_count": 5,
   "metadata": {},
   "outputs": [
    {
     "data": {
      "text/html": [
       "<div>\n",
       "<style scoped>\n",
       "    .dataframe tbody tr th:only-of-type {\n",
       "        vertical-align: middle;\n",
       "    }\n",
       "\n",
       "    .dataframe tbody tr th {\n",
       "        vertical-align: top;\n",
       "    }\n",
       "\n",
       "    .dataframe thead th {\n",
       "        text-align: right;\n",
       "    }\n",
       "</style>\n",
       "<table border=\"1\" class=\"dataframe\">\n",
       "  <thead>\n",
       "    <tr style=\"text-align: right;\">\n",
       "      <th></th>\n",
       "      <th>popularity</th>\n",
       "      <th>budget</th>\n",
       "      <th>revenue</th>\n",
       "      <th>original_title</th>\n",
       "      <th>director</th>\n",
       "      <th>runtime</th>\n",
       "      <th>genres</th>\n",
       "      <th>production_companies</th>\n",
       "      <th>release_date</th>\n",
       "      <th>vote_count</th>\n",
       "      <th>vote_average</th>\n",
       "      <th>release_year</th>\n",
       "      <th>budget_adj</th>\n",
       "      <th>revenue_adj</th>\n",
       "    </tr>\n",
       "  </thead>\n",
       "  <tbody>\n",
       "    <tr>\n",
       "      <th>0</th>\n",
       "      <td>32.985763</td>\n",
       "      <td>150000000</td>\n",
       "      <td>1513528810</td>\n",
       "      <td>Jurassic World</td>\n",
       "      <td>Colin Trevorrow</td>\n",
       "      <td>124</td>\n",
       "      <td>Action|Adventure|Science Fiction|Thriller</td>\n",
       "      <td>Universal Studios|Amblin Entertainment|Legenda...</td>\n",
       "      <td>6/9/15</td>\n",
       "      <td>5562</td>\n",
       "      <td>6.5</td>\n",
       "      <td>2015</td>\n",
       "      <td>1.379999e+08</td>\n",
       "      <td>1.392446e+09</td>\n",
       "    </tr>\n",
       "    <tr>\n",
       "      <th>1</th>\n",
       "      <td>28.419936</td>\n",
       "      <td>150000000</td>\n",
       "      <td>378436354</td>\n",
       "      <td>Mad Max: Fury Road</td>\n",
       "      <td>George Miller</td>\n",
       "      <td>120</td>\n",
       "      <td>Action|Adventure|Science Fiction|Thriller</td>\n",
       "      <td>Village Roadshow Pictures|Kennedy Miller Produ...</td>\n",
       "      <td>5/13/15</td>\n",
       "      <td>6185</td>\n",
       "      <td>7.1</td>\n",
       "      <td>2015</td>\n",
       "      <td>1.379999e+08</td>\n",
       "      <td>3.481613e+08</td>\n",
       "    </tr>\n",
       "    <tr>\n",
       "      <th>2</th>\n",
       "      <td>13.112507</td>\n",
       "      <td>110000000</td>\n",
       "      <td>295238201</td>\n",
       "      <td>Insurgent</td>\n",
       "      <td>Robert Schwentke</td>\n",
       "      <td>119</td>\n",
       "      <td>Adventure|Science Fiction|Thriller</td>\n",
       "      <td>Summit Entertainment|Mandeville Films|Red Wago...</td>\n",
       "      <td>3/18/15</td>\n",
       "      <td>2480</td>\n",
       "      <td>6.3</td>\n",
       "      <td>2015</td>\n",
       "      <td>1.012000e+08</td>\n",
       "      <td>2.716190e+08</td>\n",
       "    </tr>\n",
       "    <tr>\n",
       "      <th>3</th>\n",
       "      <td>11.173104</td>\n",
       "      <td>200000000</td>\n",
       "      <td>2068178225</td>\n",
       "      <td>Star Wars: The Force Awakens</td>\n",
       "      <td>J.J. Abrams</td>\n",
       "      <td>136</td>\n",
       "      <td>Action|Adventure|Science Fiction|Fantasy</td>\n",
       "      <td>Lucasfilm|Truenorth Productions|Bad Robot</td>\n",
       "      <td>12/15/15</td>\n",
       "      <td>5292</td>\n",
       "      <td>7.5</td>\n",
       "      <td>2015</td>\n",
       "      <td>1.839999e+08</td>\n",
       "      <td>1.902723e+09</td>\n",
       "    </tr>\n",
       "    <tr>\n",
       "      <th>4</th>\n",
       "      <td>9.335014</td>\n",
       "      <td>190000000</td>\n",
       "      <td>1506249360</td>\n",
       "      <td>Furious 7</td>\n",
       "      <td>James Wan</td>\n",
       "      <td>137</td>\n",
       "      <td>Action|Crime|Thriller</td>\n",
       "      <td>Universal Pictures|Original Film|Media Rights ...</td>\n",
       "      <td>4/1/15</td>\n",
       "      <td>2947</td>\n",
       "      <td>7.3</td>\n",
       "      <td>2015</td>\n",
       "      <td>1.747999e+08</td>\n",
       "      <td>1.385749e+09</td>\n",
       "    </tr>\n",
       "  </tbody>\n",
       "</table>\n",
       "</div>"
      ],
      "text/plain": [
       "   popularity     budget     revenue                original_title  \\\n",
       "0   32.985763  150000000  1513528810                Jurassic World   \n",
       "1   28.419936  150000000   378436354            Mad Max: Fury Road   \n",
       "2   13.112507  110000000   295238201                     Insurgent   \n",
       "3   11.173104  200000000  2068178225  Star Wars: The Force Awakens   \n",
       "4    9.335014  190000000  1506249360                     Furious 7   \n",
       "\n",
       "           director  runtime                                     genres  \\\n",
       "0   Colin Trevorrow      124  Action|Adventure|Science Fiction|Thriller   \n",
       "1     George Miller      120  Action|Adventure|Science Fiction|Thriller   \n",
       "2  Robert Schwentke      119         Adventure|Science Fiction|Thriller   \n",
       "3       J.J. Abrams      136   Action|Adventure|Science Fiction|Fantasy   \n",
       "4         James Wan      137                      Action|Crime|Thriller   \n",
       "\n",
       "                                production_companies release_date  vote_count  \\\n",
       "0  Universal Studios|Amblin Entertainment|Legenda...       6/9/15        5562   \n",
       "1  Village Roadshow Pictures|Kennedy Miller Produ...      5/13/15        6185   \n",
       "2  Summit Entertainment|Mandeville Films|Red Wago...      3/18/15        2480   \n",
       "3          Lucasfilm|Truenorth Productions|Bad Robot     12/15/15        5292   \n",
       "4  Universal Pictures|Original Film|Media Rights ...       4/1/15        2947   \n",
       "\n",
       "   vote_average  release_year    budget_adj   revenue_adj  \n",
       "0           6.5          2015  1.379999e+08  1.392446e+09  \n",
       "1           7.1          2015  1.379999e+08  3.481613e+08  \n",
       "2           6.3          2015  1.012000e+08  2.716190e+08  \n",
       "3           7.5          2015  1.839999e+08  1.902723e+09  \n",
       "4           7.3          2015  1.747999e+08  1.385749e+09  "
      ]
     },
     "execution_count": 5,
     "metadata": {},
     "output_type": "execute_result"
    }
   ],
   "source": [
    "#dropping non-required columns\n",
    "movies.drop(columns=['id', 'imdb_id', 'cast','cast', 'homepage', 'tagline', 'keywords', 'overview'],\n",
    "            axis=1, inplace=True)\n",
    "movies.head()"
   ]
  },
  {
   "cell_type": "code",
   "execution_count": 6,
   "metadata": {},
   "outputs": [
    {
     "data": {
      "image/png": "[encoded data removed]",
      "text/plain": [
       "<matplotlib.figure.Figure at 0x7fe7631122b0>"
      ]
     },
     "metadata": {
      "needs_background": "light"
     },
     "output_type": "display_data"
    }
   ],
   "source": [
    "#getting a visualization of the general data\n",
    "movies.hist(figsize=(10,8));"
   ]
  },
  {
   "cell_type": "markdown",
   "metadata": {},
   "source": [
    "# Data cleaning"
   ]
  },
  {
   "cell_type": "code",
   "execution_count": 7,
   "metadata": {
    "scrolled": true
   },
   "outputs": [
    {
     "data": {
      "image/png": "[encoded data removed]",
      "text/plain": [
       "<matplotlib.figure.Figure at 0x7fe762add128>"
      ]
     },
     "metadata": {
      "needs_background": "light"
     },
     "output_type": "display_data"
    }
   ],
   "source": [
    "#lets see how nulls are distributed in our dataset\n",
    "sns.heatmap(movies.isnull());"
   ]
  },
  {
   "cell_type": "code",
   "execution_count": 8,
   "metadata": {},
   "outputs": [
    {
     "data": {
      "text/plain": [
       "popularity              False\n",
       "budget                  False\n",
       "revenue                 False\n",
       "original_title          False\n",
       "director                 True\n",
       "runtime                 False\n",
       "genres                   True\n",
       "production_companies     True\n",
       "release_date            False\n",
       "vote_count              False\n",
       "vote_average            False\n",
       "release_year            False\n",
       "budget_adj              False\n",
       "revenue_adj             False\n",
       "dtype: bool"
      ]
     },
     "execution_count": 8,
     "metadata": {},
     "output_type": "execute_result"
    }
   ],
   "source": [
    "#cheking for nulls\n",
    "movies.isnull().any()"
   ]
  },
  {
   "cell_type": "code",
   "execution_count": 9,
   "metadata": {},
   "outputs": [],
   "source": [
    "#dropping all nulls\n",
    "movies.dropna(inplace=True)"
   ]
  },
  {
   "cell_type": "code",
   "execution_count": 10,
   "metadata": {},
   "outputs": [
    {
     "name": "stdout",
     "output_type": "stream",
     "text": [
      "<class 'pandas.core.frame.DataFrame'>\n",
      "Int64Index: 9807 entries, 0 to 10865\n",
      "Data columns (total 14 columns):\n",
      "popularity              9807 non-null float64\n",
      "budget                  9807 non-null int64\n",
      "revenue                 9807 non-null int64\n",
      "original_title          9807 non-null object\n",
      "director                9807 non-null object\n",
      "runtime                 9807 non-null int64\n",
      "genres                  9807 non-null object\n",
      "production_companies    9807 non-null object\n",
      "release_date            9807 non-null object\n",
      "vote_count              9807 non-null int64\n",
      "vote_average            9807 non-null float64\n",
      "release_year            9807 non-null int64\n",
      "budget_adj              9807 non-null float64\n",
      "revenue_adj             9807 non-null float64\n",
      "dtypes: float64(4), int64(5), object(5)\n",
      "memory usage: 1.1+ MB\n"
     ]
    }
   ],
   "source": [
    "#recheking the data\n",
    "movies.info()"
   ]
  },
  {
   "cell_type": "code",
   "execution_count": 11,
   "metadata": {},
   "outputs": [
    {
     "data": {
      "text/plain": [
       "1"
      ]
     },
     "execution_count": 11,
     "metadata": {},
     "output_type": "execute_result"
    }
   ],
   "source": [
    "#counting the number of duplicates\n",
    "sum(movies.duplicated())"
   ]
  },
  {
   "cell_type": "code",
   "execution_count": 12,
   "metadata": {},
   "outputs": [],
   "source": [
    "#lets drop the duplicate\n",
    "movies.drop_duplicates(inplace=True)"
   ]
  },
  {
   "cell_type": "code",
   "execution_count": 13,
   "metadata": {},
   "outputs": [
    {
     "data": {
      "text/plain": [
       "0"
      ]
     },
     "execution_count": 13,
     "metadata": {},
     "output_type": "execute_result"
    }
   ],
   "source": [
    "#confirming changes\n",
    "sum(movies.duplicated())"
   ]
  },
  {
   "cell_type": "code",
   "execution_count": 14,
   "metadata": {},
   "outputs": [
    {
     "data": {
      "text/plain": [
       "popularity              float64\n",
       "budget                    int64\n",
       "revenue                   int64\n",
       "original_title           object\n",
       "director                 object\n",
       "runtime                   int64\n",
       "genres                   object\n",
       "production_companies     object\n",
       "release_date             object\n",
       "vote_count                int64\n",
       "vote_average            float64\n",
       "release_year              int64\n",
       "budget_adj              float64\n",
       "revenue_adj             float64\n",
       "dtype: object"
      ]
     },
     "execution_count": 14,
     "metadata": {},
     "output_type": "execute_result"
    }
   ],
   "source": [
    "#checking datatypes\n",
    "movies.dtypes"
   ]
  },
  {
   "cell_type": "code",
   "execution_count": 15,
   "metadata": {},
   "outputs": [],
   "source": [
    "#changing the datatype of release_date\n",
    "movies['release_date'] = pd.to_datetime(movies.release_year)"
   ]
  },
  {
   "cell_type": "markdown",
   "metadata": {},
   "source": [
    "<a id='eda'></a>\n",
    "## Exploratory Data Analysis"
   ]
  },
  {
   "cell_type": "markdown",
   "metadata": {},
   "source": [
    "###  Question 1 which are the top popular movies?"
   ]
  },
  {
   "cell_type": "code",
   "execution_count": 16,
   "metadata": {},
   "outputs": [
    {
     "data": {
      "text/html": [
       "<div>\n",
       "<style scoped>\n",
       "    .dataframe tbody tr th:only-of-type {\n",
       "        vertical-align: middle;\n",
       "    }\n",
       "\n",
       "    .dataframe tbody tr th {\n",
       "        vertical-align: top;\n",
       "    }\n",
       "\n",
       "    .dataframe thead th {\n",
       "        text-align: right;\n",
       "    }\n",
       "</style>\n",
       "<table border=\"1\" class=\"dataframe\">\n",
       "  <thead>\n",
       "    <tr style=\"text-align: right;\">\n",
       "      <th></th>\n",
       "      <th>popularity</th>\n",
       "      <th>original_title</th>\n",
       "    </tr>\n",
       "  </thead>\n",
       "  <tbody>\n",
       "    <tr>\n",
       "      <th>0</th>\n",
       "      <td>32.985763</td>\n",
       "      <td>Jurassic World</td>\n",
       "    </tr>\n",
       "    <tr>\n",
       "      <th>1</th>\n",
       "      <td>28.419936</td>\n",
       "      <td>Mad Max: Fury Road</td>\n",
       "    </tr>\n",
       "    <tr>\n",
       "      <th>2</th>\n",
       "      <td>24.949134</td>\n",
       "      <td>Interstellar</td>\n",
       "    </tr>\n",
       "    <tr>\n",
       "      <th>3</th>\n",
       "      <td>14.311205</td>\n",
       "      <td>Guardians of the Galaxy</td>\n",
       "    </tr>\n",
       "    <tr>\n",
       "      <th>4</th>\n",
       "      <td>13.112507</td>\n",
       "      <td>Insurgent</td>\n",
       "    </tr>\n",
       "    <tr>\n",
       "      <th>5</th>\n",
       "      <td>12.971027</td>\n",
       "      <td>Captain America: The Winter Soldier</td>\n",
       "    </tr>\n",
       "    <tr>\n",
       "      <th>6</th>\n",
       "      <td>12.037933</td>\n",
       "      <td>Star Wars</td>\n",
       "    </tr>\n",
       "    <tr>\n",
       "      <th>7</th>\n",
       "      <td>11.422751</td>\n",
       "      <td>John Wick</td>\n",
       "    </tr>\n",
       "    <tr>\n",
       "      <th>8</th>\n",
       "      <td>11.173104</td>\n",
       "      <td>Star Wars: The Force Awakens</td>\n",
       "    </tr>\n",
       "    <tr>\n",
       "      <th>9</th>\n",
       "      <td>10.739009</td>\n",
       "      <td>The Hunger Games: Mockingjay - Part 1</td>\n",
       "    </tr>\n",
       "    <tr>\n",
       "      <th>10</th>\n",
       "      <td>10.174599</td>\n",
       "      <td>The Hobbit: The Battle of the Five Armies</td>\n",
       "    </tr>\n",
       "    <tr>\n",
       "      <th>11</th>\n",
       "      <td>9.432768</td>\n",
       "      <td>Avatar</td>\n",
       "    </tr>\n",
       "    <tr>\n",
       "      <th>12</th>\n",
       "      <td>9.363643</td>\n",
       "      <td>Inception</td>\n",
       "    </tr>\n",
       "    <tr>\n",
       "      <th>13</th>\n",
       "      <td>9.335014</td>\n",
       "      <td>Furious 7</td>\n",
       "    </tr>\n",
       "    <tr>\n",
       "      <th>14</th>\n",
       "      <td>9.110700</td>\n",
       "      <td>The Revenant</td>\n",
       "    </tr>\n",
       "    <tr>\n",
       "      <th>15</th>\n",
       "      <td>8.947905</td>\n",
       "      <td>Fight Club</td>\n",
       "    </tr>\n",
       "    <tr>\n",
       "      <th>16</th>\n",
       "      <td>8.691294</td>\n",
       "      <td>Big Hero 6</td>\n",
       "    </tr>\n",
       "    <tr>\n",
       "      <th>17</th>\n",
       "      <td>8.654359</td>\n",
       "      <td>Terminator Genisys</td>\n",
       "    </tr>\n",
       "    <tr>\n",
       "      <th>18</th>\n",
       "      <td>8.575419</td>\n",
       "      <td>The Lord of the Rings: The Fellowship of the Ring</td>\n",
       "    </tr>\n",
       "    <tr>\n",
       "      <th>19</th>\n",
       "      <td>8.466668</td>\n",
       "      <td>The Dark Knight</td>\n",
       "    </tr>\n",
       "    <tr>\n",
       "      <th>20</th>\n",
       "      <td>8.110711</td>\n",
       "      <td>The Imitation Game</td>\n",
       "    </tr>\n",
       "    <tr>\n",
       "      <th>21</th>\n",
       "      <td>8.095275</td>\n",
       "      <td>The Lord of the Rings: The Two Towers</td>\n",
       "    </tr>\n",
       "    <tr>\n",
       "      <th>22</th>\n",
       "      <td>8.093754</td>\n",
       "      <td>Pulp Fiction</td>\n",
       "    </tr>\n",
       "    <tr>\n",
       "      <th>23</th>\n",
       "      <td>8.021423</td>\n",
       "      <td>Harry Potter and the Philosopher's Stone</td>\n",
       "    </tr>\n",
       "    <tr>\n",
       "      <th>24</th>\n",
       "      <td>7.959228</td>\n",
       "      <td>Captain America: The First Avenger</td>\n",
       "    </tr>\n",
       "    <tr>\n",
       "      <th>25</th>\n",
       "      <td>7.753899</td>\n",
       "      <td>The Matrix</td>\n",
       "    </tr>\n",
       "    <tr>\n",
       "      <th>26</th>\n",
       "      <td>7.667400</td>\n",
       "      <td>The Martian</td>\n",
       "    </tr>\n",
       "    <tr>\n",
       "      <th>27</th>\n",
       "      <td>7.637767</td>\n",
       "      <td>The Avengers</td>\n",
       "    </tr>\n",
       "    <tr>\n",
       "      <th>28</th>\n",
       "      <td>7.404165</td>\n",
       "      <td>Minions</td>\n",
       "    </tr>\n",
       "    <tr>\n",
       "      <th>29</th>\n",
       "      <td>7.192039</td>\n",
       "      <td>The Shawshank Redemption</td>\n",
       "    </tr>\n",
       "  </tbody>\n",
       "</table>\n",
       "</div>"
      ],
      "text/plain": [
       "    popularity                                     original_title\n",
       "0    32.985763                                     Jurassic World\n",
       "1    28.419936                                 Mad Max: Fury Road\n",
       "2    24.949134                                       Interstellar\n",
       "3    14.311205                            Guardians of the Galaxy\n",
       "4    13.112507                                          Insurgent\n",
       "5    12.971027                Captain America: The Winter Soldier\n",
       "6    12.037933                                          Star Wars\n",
       "7    11.422751                                          John Wick\n",
       "8    11.173104                       Star Wars: The Force Awakens\n",
       "9    10.739009              The Hunger Games: Mockingjay - Part 1\n",
       "10   10.174599          The Hobbit: The Battle of the Five Armies\n",
       "11    9.432768                                             Avatar\n",
       "12    9.363643                                          Inception\n",
       "13    9.335014                                          Furious 7\n",
       "14    9.110700                                       The Revenant\n",
       "15    8.947905                                         Fight Club\n",
       "16    8.691294                                         Big Hero 6\n",
       "17    8.654359                                 Terminator Genisys\n",
       "18    8.575419  The Lord of the Rings: The Fellowship of the Ring\n",
       "19    8.466668                                    The Dark Knight\n",
       "20    8.110711                                 The Imitation Game\n",
       "21    8.095275              The Lord of the Rings: The Two Towers\n",
       "22    8.093754                                       Pulp Fiction\n",
       "23    8.021423           Harry Potter and the Philosopher's Stone\n",
       "24    7.959228                 Captain America: The First Avenger\n",
       "25    7.753899                                         The Matrix\n",
       "26    7.667400                                        The Martian\n",
       "27    7.637767                                       The Avengers\n",
       "28    7.404165                                            Minions\n",
       "29    7.192039                           The Shawshank Redemption"
      ]
     },
     "execution_count": 16,
     "metadata": {},
     "output_type": "execute_result"
    }
   ],
   "source": [
    "#sorting movies according to their popularity using sort.values()\n",
    "#taking the top 100 movies head(20)\n",
    "#conveting it to a dataframe for easy coparisons between columns\n",
    "#dropping the annoying index after sorting using reset_index()\n",
    "movies_toppopular = movies[['popularity', 'original_title']].sort_values(by='popularity', \n",
    "                                                                       ascending=False).head(30)\n",
    "movies_toppopular.reset_index(drop=True, inplace=True)\n",
    "movies_toppopular = pd.DataFrame(movies_toppopular)\n",
    "movies_toppopular"
   ]
  },
  {
   "cell_type": "code",
   "execution_count": 17,
   "metadata": {},
   "outputs": [
    {
     "data": {
      "image/png": "[encoded data removed]",
      "text/plain": [
       "<matplotlib.figure.Figure at 0x7fe7631043c8>"
      ]
     },
     "metadata": {
      "needs_background": "light"
     },
     "output_type": "display_data"
    }
   ],
   "source": [
    "plt.figure(figsize=(16,16))#for allocating size of the figure\n",
    "plt.title('Top popular movies')\n",
    "plt.xlabel('number of movies')\n",
    "plt.ylabel('original_title')\n",
    "plt.barh( movies_toppopular.original_title, movies_toppopular.popularity);"
   ]
  },
  {
   "cell_type": "markdown",
   "metadata": {},
   "source": [
    "We can conclude that Jurassic World is the most popular movie and it is closely followed by \n",
    "Mad Max: Fury Road"
   ]
  },
  {
   "cell_type": "markdown",
   "metadata": {},
   "source": [
    "### Question 2  top years in terms of movies release"
   ]
  },
  {
   "cell_type": "code",
   "execution_count": 18,
   "metadata": {},
   "outputs": [
    {
     "data": {
      "text/plain": [
       "2014    638\n",
       "2013    568\n",
       "2015    561\n",
       "2012    500\n",
       "2009    474\n",
       "2011    461\n",
       "2008    443\n",
       "2010    421\n",
       "2007    392\n",
       "2006    353\n",
       "2005    324\n",
       "2003    254\n",
       "2004    253\n",
       "2002    243\n",
       "2001    212\n",
       "Name: release_year, dtype: int64"
      ]
     },
     "execution_count": 18,
     "metadata": {},
     "output_type": "execute_result"
    }
   ],
   "source": [
    "top_15_years = movies.release_year.value_counts().head(15)\n",
    "top_15_years"
   ]
  },
  {
   "cell_type": "code",
   "execution_count": 19,
   "metadata": {},
   "outputs": [
    {
     "data": {
      "image/png": "[encoded data removed]",
      "text/plain": [
       "<matplotlib.figure.Figure at 0x7fe7625929b0>"
      ]
     },
     "metadata": {
      "needs_background": "light"
     },
     "output_type": "display_data"
    }
   ],
   "source": [
    "plt.figure(figsize=(16,5))\n",
    "plt.xlabel('release year')\n",
    "plt.ylabel('number of movies')\n",
    "plt.bar(top_15_years.index, top_15_years);"
   ]
  },
  {
   "cell_type": "markdown",
   "metadata": {},
   "source": [
    "**we can conclude that 2014 is the year with the highest number of releases.\n",
    "the general trend in movies production is increasing from the year 2001-2014**"
   ]
  },
  {
   "cell_type": "markdown",
   "metadata": {
    "collapsed": true
   },
   "source": [
    "# Question 3 Who are the top directors in movies releases?"
   ]
  },
  {
   "cell_type": "code",
   "execution_count": 20,
   "metadata": {},
   "outputs": [
    {
     "data": {
      "text/plain": [
       "Woody Allen          42\n",
       "Clint Eastwood       34\n",
       "Steven Spielberg     29\n",
       "Martin Scorsese      26\n",
       "Ridley Scott         23\n",
       "Steven Soderbergh    22\n",
       "Ron Howard           22\n",
       "Joel Schumacher      21\n",
       "Brian De Palma       20\n",
       "Barry Levinson       19\n",
       "Wes Craven           19\n",
       "Tim Burton           18\n",
       "Mike Nichols         18\n",
       "John Carpenter       18\n",
       "David Cronenberg     18\n",
       "Name: director, dtype: int64"
      ]
     },
     "execution_count": 20,
     "metadata": {},
     "output_type": "execute_result"
    }
   ],
   "source": [
    "top_directors = movies.director.value_counts().head(15)\n",
    "top_directors"
   ]
  },
  {
   "cell_type": "code",
   "execution_count": 21,
   "metadata": {},
   "outputs": [
    {
     "data": {
      "image/png": "[encoded data removed]",
      "text/plain": [
       "<matplotlib.figure.Figure at 0x7fe762615d68>"
      ]
     },
     "metadata": {
      "needs_background": "light"
     },
     "output_type": "display_data"
    }
   ],
   "source": [
    "plt.figure(figsize=(16,5))\n",
    "plt.xlabel('number of movies')\n",
    "plt.ylabel('release year')\n",
    "plt.barh(top_directors.index, top_directors);"
   ]
  },
  {
   "cell_type": "markdown",
   "metadata": {},
   "source": [
    "we can conclude that Woody Allen is the top director in terms of movies releases. He has featured in 42 \n",
    "releases."
   ]
  },
  {
   "cell_type": "markdown",
   "metadata": {},
   "source": [
    "# Question 4: Do popular movies happen to be top rated movies?"
   ]
  },
  {
   "cell_type": "markdown",
   "metadata": {},
   "source": [
    "**since Popularity is a quantative variable we need to create distinctions**"
   ]
  },
  {
   "cell_type": "code",
   "execution_count": 22,
   "metadata": {},
   "outputs": [
    {
     "data": {
      "text/plain": [
       "count    9806.000000\n",
       "mean        0.693143\n",
       "std         1.035525\n",
       "min         0.000188\n",
       "25%         0.231581\n",
       "50%         0.418755\n",
       "75%         0.774232\n",
       "max        32.985763\n",
       "Name: popularity, dtype: float64"
      ]
     },
     "execution_count": 22,
     "metadata": {},
     "output_type": "execute_result"
    }
   ],
   "source": [
    "# View the min, 25%, 50%, 75%, max popularity values with Pandas describe\n",
    "movies.popularity.describe()"
   ]
  },
  {
   "cell_type": "code",
   "execution_count": 23,
   "metadata": {
    "scrolled": true
   },
   "outputs": [],
   "source": [
    "#bin values that will be used to \"cut\" the data into groups\n",
    "bin_values = [0.000188, 0.231581, 0.418756, 0.774231, 32.985763]"
   ]
  },
  {
   "cell_type": "code",
   "execution_count": 24,
   "metadata": {},
   "outputs": [],
   "source": [
    "#labels for the four popularity levels\n",
    "bin_names = ['not popular','less popular','popular','very popular']"
   ]
  },
  {
   "cell_type": "code",
   "execution_count": 25,
   "metadata": {
    "scrolled": true
   },
   "outputs": [
    {
     "data": {
      "text/html": [
       "<div>\n",
       "<style scoped>\n",
       "    .dataframe tbody tr th:only-of-type {\n",
       "        vertical-align: middle;\n",
       "    }\n",
       "\n",
       "    .dataframe tbody tr th {\n",
       "        vertical-align: top;\n",
       "    }\n",
       "\n",
       "    .dataframe thead th {\n",
       "        text-align: right;\n",
       "    }\n",
       "</style>\n",
       "<table border=\"1\" class=\"dataframe\">\n",
       "  <thead>\n",
       "    <tr style=\"text-align: right;\">\n",
       "      <th></th>\n",
       "      <th>popularity</th>\n",
       "      <th>budget</th>\n",
       "      <th>revenue</th>\n",
       "      <th>original_title</th>\n",
       "      <th>director</th>\n",
       "      <th>runtime</th>\n",
       "      <th>genres</th>\n",
       "      <th>production_companies</th>\n",
       "      <th>release_date</th>\n",
       "      <th>vote_count</th>\n",
       "      <th>vote_average</th>\n",
       "      <th>release_year</th>\n",
       "      <th>budget_adj</th>\n",
       "      <th>revenue_adj</th>\n",
       "      <th>popularity_levels</th>\n",
       "    </tr>\n",
       "  </thead>\n",
       "  <tbody>\n",
       "    <tr>\n",
       "      <th>8799</th>\n",
       "      <td>0.196668</td>\n",
       "      <td>24000000</td>\n",
       "      <td>12372410</td>\n",
       "      <td>Ready to Rumble</td>\n",
       "      <td>Brian Robbins</td>\n",
       "      <td>107</td>\n",
       "      <td>Action|Comedy|Drama</td>\n",
       "      <td>Bel Air Entertainment|Warner Bros.</td>\n",
       "      <td>1970-01-01 00:00:00.000002000</td>\n",
       "      <td>16</td>\n",
       "      <td>4.4</td>\n",
       "      <td>2000</td>\n",
       "      <td>3.039101e+07</td>\n",
       "      <td>1.566709e+07</td>\n",
       "      <td>not popular</td>\n",
       "    </tr>\n",
       "    <tr>\n",
       "      <th>6433</th>\n",
       "      <td>0.265732</td>\n",
       "      <td>0</td>\n",
       "      <td>0</td>\n",
       "      <td>House of Fury</td>\n",
       "      <td>Stephen Fung</td>\n",
       "      <td>102</td>\n",
       "      <td>Action|Comedy|Foreign</td>\n",
       "      <td>Emperor Multimedia Group (EMG)|JCE Entertainme...</td>\n",
       "      <td>1970-01-01 00:00:00.000002005</td>\n",
       "      <td>18</td>\n",
       "      <td>6.4</td>\n",
       "      <td>2005</td>\n",
       "      <td>0.000000e+00</td>\n",
       "      <td>0.000000e+00</td>\n",
       "      <td>less popular</td>\n",
       "    </tr>\n",
       "    <tr>\n",
       "      <th>6696</th>\n",
       "      <td>0.575781</td>\n",
       "      <td>0</td>\n",
       "      <td>0</td>\n",
       "      <td>Hollow Man II</td>\n",
       "      <td>Claudio FÃ¤h</td>\n",
       "      <td>91</td>\n",
       "      <td>Horror|Action|Thriller|Science Fiction</td>\n",
       "      <td>Destination Films|Red Wagon Entertainment|Fron...</td>\n",
       "      <td>1970-01-01 00:00:00.000002006</td>\n",
       "      <td>32</td>\n",
       "      <td>5.1</td>\n",
       "      <td>2006</td>\n",
       "      <td>0.000000e+00</td>\n",
       "      <td>0.000000e+00</td>\n",
       "      <td>popular</td>\n",
       "    </tr>\n",
       "    <tr>\n",
       "      <th>1084</th>\n",
       "      <td>0.228495</td>\n",
       "      <td>0</td>\n",
       "      <td>0</td>\n",
       "      <td>10.000 KM</td>\n",
       "      <td>Carlos Marques-Marcet</td>\n",
       "      <td>99</td>\n",
       "      <td>Comedy|Drama|Romance</td>\n",
       "      <td>TelevisiÃ³n EspaÃ±ola (TVE)|TelevisiÃ³ de Cata...</td>\n",
       "      <td>1970-01-01 00:00:00.000002014</td>\n",
       "      <td>24</td>\n",
       "      <td>6.2</td>\n",
       "      <td>2014</td>\n",
       "      <td>0.000000e+00</td>\n",
       "      <td>0.000000e+00</td>\n",
       "      <td>not popular</td>\n",
       "    </tr>\n",
       "    <tr>\n",
       "      <th>10090</th>\n",
       "      <td>0.318177</td>\n",
       "      <td>0</td>\n",
       "      <td>0</td>\n",
       "      <td>I Love You to Death</td>\n",
       "      <td>Lawrence Kasdan</td>\n",
       "      <td>94</td>\n",
       "      <td>Action|Comedy|Crime</td>\n",
       "      <td>TriStar Pictures</td>\n",
       "      <td>1970-01-01 00:00:00.000001990</td>\n",
       "      <td>26</td>\n",
       "      <td>6.1</td>\n",
       "      <td>1990</td>\n",
       "      <td>0.000000e+00</td>\n",
       "      <td>0.000000e+00</td>\n",
       "      <td>less popular</td>\n",
       "    </tr>\n",
       "  </tbody>\n",
       "</table>\n",
       "</div>"
      ],
      "text/plain": [
       "       popularity    budget   revenue       original_title  \\\n",
       "8799     0.196668  24000000  12372410      Ready to Rumble   \n",
       "6433     0.265732         0         0        House of Fury   \n",
       "6696     0.575781         0         0        Hollow Man II   \n",
       "1084     0.228495         0         0            10.000 KM   \n",
       "10090    0.318177         0         0  I Love You to Death   \n",
       "\n",
       "                    director  runtime                                  genres  \\\n",
       "8799           Brian Robbins      107                     Action|Comedy|Drama   \n",
       "6433            Stephen Fung      102                   Action|Comedy|Foreign   \n",
       "6696            Claudio FÃ¤h       91  Horror|Action|Thriller|Science Fiction   \n",
       "1084   Carlos Marques-Marcet       99                    Comedy|Drama|Romance   \n",
       "10090        Lawrence Kasdan       94                     Action|Comedy|Crime   \n",
       "\n",
       "                                    production_companies  \\\n",
       "8799                  Bel Air Entertainment|Warner Bros.   \n",
       "6433   Emperor Multimedia Group (EMG)|JCE Entertainme...   \n",
       "6696   Destination Films|Red Wagon Entertainment|Fron...   \n",
       "1084   TelevisiÃ³n EspaÃ±ola (TVE)|TelevisiÃ³ de Cata...   \n",
       "10090                                   TriStar Pictures   \n",
       "\n",
       "                       release_date  vote_count  vote_average  release_year  \\\n",
       "8799  1970-01-01 00:00:00.000002000          16           4.4          2000   \n",
       "6433  1970-01-01 00:00:00.000002005          18           6.4          2005   \n",
       "6696  1970-01-01 00:00:00.000002006          32           5.1          2006   \n",
       "1084  1970-01-01 00:00:00.000002014          24           6.2          2014   \n",
       "10090 1970-01-01 00:00:00.000001990          26           6.1          1990   \n",
       "\n",
       "         budget_adj   revenue_adj popularity_levels  \n",
       "8799   3.039101e+07  1.566709e+07       not popular  \n",
       "6433   0.000000e+00  0.000000e+00      less popular  \n",
       "6696   0.000000e+00  0.000000e+00           popular  \n",
       "1084   0.000000e+00  0.000000e+00       not popular  \n",
       "10090  0.000000e+00  0.000000e+00      less popular  "
      ]
     },
     "execution_count": 25,
     "metadata": {},
     "output_type": "execute_result"
    }
   ],
   "source": [
    "#create popular level columns\n",
    "movies['popularity_levels'] = pd.cut(movies['popularity'], bin_values, labels=bin_names) \n",
    "movies.sample(5)"
   ]
  },
  {
   "cell_type": "code",
   "execution_count": 26,
   "metadata": {},
   "outputs": [
    {
     "data": {
      "text/plain": [
       "popularity_levels\n",
       "not popular     5.812036\n",
       "less popular    5.792574\n",
       "popular         5.952917\n",
       "very popular    6.307993\n",
       "Name: vote_average, dtype: float64"
      ]
     },
     "execution_count": 26,
     "metadata": {},
     "output_type": "execute_result"
    }
   ],
   "source": [
    "popularity = movies.groupby('popularity_levels').mean().vote_average\n",
    "popularity"
   ]
  },
  {
   "cell_type": "code",
   "execution_count": 27,
   "metadata": {},
   "outputs": [
    {
     "data": {
      "image/png": "[encoded data removed]",
      "text/plain": [
       "<matplotlib.figure.Figure at 0x7fe761e44e48>"
      ]
     },
     "metadata": {
      "needs_background": "light"
     },
     "output_type": "display_data"
    }
   ],
   "source": [
    "locations = [1, 2, 3, 4]\n",
    "plt.bar(locations, popularity, tick_label=popularity.index)\n",
    "plt.title('Average vote_count by popularity Level')\n",
    "plt.xlabel('popularity Level')\n",
    "plt.ylabel('Average vote_count');"
   ]
  },
  {
   "cell_type": "markdown",
   "metadata": {},
   "source": [
    "**Clearly we can coclude that top popular movies are also top rated.**"
   ]
  },
  {
   "cell_type": "markdown",
   "metadata": {},
   "source": [
    "# Question 5: Which are the highly rated genres?"
   ]
  },
  {
   "cell_type": "code",
   "execution_count": 28,
   "metadata": {},
   "outputs": [
    {
     "data": {
      "text/plain": [
       "count    9806.000000\n",
       "mean        5.966459\n",
       "std         0.914291\n",
       "min         1.500000\n",
       "25%         5.400000\n",
       "50%         6.000000\n",
       "75%         6.600000\n",
       "max         8.700000\n",
       "Name: vote_average, dtype: float64"
      ]
     },
     "execution_count": 28,
     "metadata": {},
     "output_type": "execute_result"
    }
   ],
   "source": [
    "#to find this we need to label our data according to ratings(vote_average)\n",
    "movies.describe().vote_average"
   ]
  },
  {
   "cell_type": "code",
   "execution_count": 29,
   "metadata": {},
   "outputs": [],
   "source": [
    "#bin values that will be used to \"cut\" the data into groups\n",
    "bin_values = [1.5, 5.4, 6.0, 6.6, 8.7]"
   ]
  },
  {
   "cell_type": "code",
   "execution_count": 30,
   "metadata": {},
   "outputs": [],
   "source": [
    "#labels for the four popularity levels\n",
    "bin_names = ['lowly_rated','average_rated','above_average_rated','highly_rated']"
   ]
  },
  {
   "cell_type": "code",
   "execution_count": 31,
   "metadata": {},
   "outputs": [
    {
     "data": {
      "text/html": [
       "<div>\n",
       "<style scoped>\n",
       "    .dataframe tbody tr th:only-of-type {\n",
       "        vertical-align: middle;\n",
       "    }\n",
       "\n",
       "    .dataframe tbody tr th {\n",
       "        vertical-align: top;\n",
       "    }\n",
       "\n",
       "    .dataframe thead th {\n",
       "        text-align: right;\n",
       "    }\n",
       "</style>\n",
       "<table border=\"1\" class=\"dataframe\">\n",
       "  <thead>\n",
       "    <tr style=\"text-align: right;\">\n",
       "      <th></th>\n",
       "      <th>popularity</th>\n",
       "      <th>budget</th>\n",
       "      <th>revenue</th>\n",
       "      <th>original_title</th>\n",
       "      <th>director</th>\n",
       "      <th>runtime</th>\n",
       "      <th>genres</th>\n",
       "      <th>production_companies</th>\n",
       "      <th>release_date</th>\n",
       "      <th>vote_count</th>\n",
       "      <th>vote_average</th>\n",
       "      <th>release_year</th>\n",
       "      <th>budget_adj</th>\n",
       "      <th>revenue_adj</th>\n",
       "      <th>popularity_levels</th>\n",
       "      <th>rating_levels</th>\n",
       "    </tr>\n",
       "  </thead>\n",
       "  <tbody>\n",
       "    <tr>\n",
       "      <th>9126</th>\n",
       "      <td>0.230420</td>\n",
       "      <td>0</td>\n",
       "      <td>0</td>\n",
       "      <td>The Second Arrival</td>\n",
       "      <td>Kevin Tenney</td>\n",
       "      <td>101</td>\n",
       "      <td>Action|Adventure|Science Fiction|Thriller</td>\n",
       "      <td>Rootbeer Films|Taurus 7 Film Corporation</td>\n",
       "      <td>1970-01-01 00:00:00.000001998</td>\n",
       "      <td>11</td>\n",
       "      <td>2.9</td>\n",
       "      <td>1998</td>\n",
       "      <td>0.000000e+00</td>\n",
       "      <td>0.000000e+00</td>\n",
       "      <td>not popular</td>\n",
       "      <td>lowly_rated</td>\n",
       "    </tr>\n",
       "    <tr>\n",
       "      <th>10727</th>\n",
       "      <td>0.859806</td>\n",
       "      <td>3600000</td>\n",
       "      <td>44785053</td>\n",
       "      <td>Midnight Cowboy</td>\n",
       "      <td>John Schlesinger</td>\n",
       "      <td>113</td>\n",
       "      <td>Drama</td>\n",
       "      <td>United Artists|Florin Productions|Jerome Hellm...</td>\n",
       "      <td>1970-01-01 00:00:00.000001969</td>\n",
       "      <td>124</td>\n",
       "      <td>7.0</td>\n",
       "      <td>1969</td>\n",
       "      <td>2.139935e+07</td>\n",
       "      <td>2.662142e+08</td>\n",
       "      <td>very popular</td>\n",
       "      <td>highly_rated</td>\n",
       "    </tr>\n",
       "    <tr>\n",
       "      <th>6411</th>\n",
       "      <td>0.317018</td>\n",
       "      <td>18000000</td>\n",
       "      <td>0</td>\n",
       "      <td>The Big White</td>\n",
       "      <td>Mark Mylod</td>\n",
       "      <td>100</td>\n",
       "      <td>Comedy|Crime|Drama</td>\n",
       "      <td>Capitol Films|Ascendant Pictures|Rising Star|F...</td>\n",
       "      <td>1970-01-01 00:00:00.000002005</td>\n",
       "      <td>40</td>\n",
       "      <td>6.2</td>\n",
       "      <td>2005</td>\n",
       "      <td>2.009814e+07</td>\n",
       "      <td>0.000000e+00</td>\n",
       "      <td>less popular</td>\n",
       "      <td>above_average_rated</td>\n",
       "    </tr>\n",
       "    <tr>\n",
       "      <th>10059</th>\n",
       "      <td>0.285403</td>\n",
       "      <td>0</td>\n",
       "      <td>0</td>\n",
       "      <td>Desperate Hours</td>\n",
       "      <td>Michael Cimino</td>\n",
       "      <td>105</td>\n",
       "      <td>Mystery|Thriller</td>\n",
       "      <td>Metro-Goldwyn-Mayer (MGM)</td>\n",
       "      <td>1970-01-01 00:00:00.000001990</td>\n",
       "      <td>15</td>\n",
       "      <td>5.2</td>\n",
       "      <td>1990</td>\n",
       "      <td>0.000000e+00</td>\n",
       "      <td>0.000000e+00</td>\n",
       "      <td>less popular</td>\n",
       "      <td>lowly_rated</td>\n",
       "    </tr>\n",
       "    <tr>\n",
       "      <th>8724</th>\n",
       "      <td>0.632783</td>\n",
       "      <td>83000000</td>\n",
       "      <td>59468275</td>\n",
       "      <td>The Flintstones in Viva Rock Vegas</td>\n",
       "      <td>Brian Levant</td>\n",
       "      <td>90</td>\n",
       "      <td>Science Fiction|Comedy|Family|Romance</td>\n",
       "      <td>Universal Pictures|Amblin Entertainment</td>\n",
       "      <td>1970-01-01 00:00:00.000002000</td>\n",
       "      <td>55</td>\n",
       "      <td>4.4</td>\n",
       "      <td>2000</td>\n",
       "      <td>1.051022e+08</td>\n",
       "      <td>7.530421e+07</td>\n",
       "      <td>popular</td>\n",
       "      <td>lowly_rated</td>\n",
       "    </tr>\n",
       "  </tbody>\n",
       "</table>\n",
       "</div>"
      ],
      "text/plain": [
       "       popularity    budget   revenue                      original_title  \\\n",
       "9126     0.230420         0         0                  The Second Arrival   \n",
       "10727    0.859806   3600000  44785053                     Midnight Cowboy   \n",
       "6411     0.317018  18000000         0                       The Big White   \n",
       "10059    0.285403         0         0                     Desperate Hours   \n",
       "8724     0.632783  83000000  59468275  The Flintstones in Viva Rock Vegas   \n",
       "\n",
       "               director  runtime                                     genres  \\\n",
       "9126       Kevin Tenney      101  Action|Adventure|Science Fiction|Thriller   \n",
       "10727  John Schlesinger      113                                      Drama   \n",
       "6411         Mark Mylod      100                         Comedy|Crime|Drama   \n",
       "10059    Michael Cimino      105                           Mystery|Thriller   \n",
       "8724       Brian Levant       90      Science Fiction|Comedy|Family|Romance   \n",
       "\n",
       "                                    production_companies  \\\n",
       "9126            Rootbeer Films|Taurus 7 Film Corporation   \n",
       "10727  United Artists|Florin Productions|Jerome Hellm...   \n",
       "6411   Capitol Films|Ascendant Pictures|Rising Star|F...   \n",
       "10059                          Metro-Goldwyn-Mayer (MGM)   \n",
       "8724             Universal Pictures|Amblin Entertainment   \n",
       "\n",
       "                       release_date  vote_count  vote_average  release_year  \\\n",
       "9126  1970-01-01 00:00:00.000001998          11           2.9          1998   \n",
       "10727 1970-01-01 00:00:00.000001969         124           7.0          1969   \n",
       "6411  1970-01-01 00:00:00.000002005          40           6.2          2005   \n",
       "10059 1970-01-01 00:00:00.000001990          15           5.2          1990   \n",
       "8724  1970-01-01 00:00:00.000002000          55           4.4          2000   \n",
       "\n",
       "         budget_adj   revenue_adj popularity_levels        rating_levels  \n",
       "9126   0.000000e+00  0.000000e+00       not popular          lowly_rated  \n",
       "10727  2.139935e+07  2.662142e+08      very popular         highly_rated  \n",
       "6411   2.009814e+07  0.000000e+00      less popular  above_average_rated  \n",
       "10059  0.000000e+00  0.000000e+00      less popular          lowly_rated  \n",
       "8724   1.051022e+08  7.530421e+07           popular          lowly_rated  "
      ]
     },
     "execution_count": 31,
     "metadata": {},
     "output_type": "execute_result"
    }
   ],
   "source": [
    "movies['rating_levels'] = pd.cut(movies['vote_average'], bin_values, labels=bin_names)\n",
    "movies.sample(5)"
   ]
  },
  {
   "cell_type": "code",
   "execution_count": 32,
   "metadata": {},
   "outputs": [
    {
     "data": {
      "text/html": [
       "<div>\n",
       "<style scoped>\n",
       "    .dataframe tbody tr th:only-of-type {\n",
       "        vertical-align: middle;\n",
       "    }\n",
       "\n",
       "    .dataframe tbody tr th {\n",
       "        vertical-align: top;\n",
       "    }\n",
       "\n",
       "    .dataframe thead th {\n",
       "        text-align: right;\n",
       "    }\n",
       "</style>\n",
       "<table border=\"1\" class=\"dataframe\">\n",
       "  <thead>\n",
       "    <tr style=\"text-align: right;\">\n",
       "      <th></th>\n",
       "      <th>popularity</th>\n",
       "      <th>budget</th>\n",
       "      <th>revenue</th>\n",
       "      <th>original_title</th>\n",
       "      <th>director</th>\n",
       "      <th>runtime</th>\n",
       "      <th>genres</th>\n",
       "      <th>production_companies</th>\n",
       "      <th>release_date</th>\n",
       "      <th>vote_count</th>\n",
       "      <th>vote_average</th>\n",
       "      <th>release_year</th>\n",
       "      <th>budget_adj</th>\n",
       "      <th>revenue_adj</th>\n",
       "      <th>popularity_levels</th>\n",
       "      <th>rating_levels</th>\n",
       "    </tr>\n",
       "  </thead>\n",
       "  <tbody>\n",
       "    <tr>\n",
       "      <th>1</th>\n",
       "      <td>28.419936</td>\n",
       "      <td>150000000</td>\n",
       "      <td>378436354</td>\n",
       "      <td>Mad Max: Fury Road</td>\n",
       "      <td>George Miller</td>\n",
       "      <td>120</td>\n",
       "      <td>Action|Adventure|Science Fiction|Thriller</td>\n",
       "      <td>Village Roadshow Pictures|Kennedy Miller Produ...</td>\n",
       "      <td>1970-01-01 00:00:00.000002015</td>\n",
       "      <td>6185</td>\n",
       "      <td>7.1</td>\n",
       "      <td>2015</td>\n",
       "      <td>1.379999e+08</td>\n",
       "      <td>3.481613e+08</td>\n",
       "      <td>very popular</td>\n",
       "      <td>highly_rated</td>\n",
       "    </tr>\n",
       "    <tr>\n",
       "      <th>3</th>\n",
       "      <td>11.173104</td>\n",
       "      <td>200000000</td>\n",
       "      <td>2068178225</td>\n",
       "      <td>Star Wars: The Force Awakens</td>\n",
       "      <td>J.J. Abrams</td>\n",
       "      <td>136</td>\n",
       "      <td>Action|Adventure|Science Fiction|Fantasy</td>\n",
       "      <td>Lucasfilm|Truenorth Productions|Bad Robot</td>\n",
       "      <td>1970-01-01 00:00:00.000002015</td>\n",
       "      <td>5292</td>\n",
       "      <td>7.5</td>\n",
       "      <td>2015</td>\n",
       "      <td>1.839999e+08</td>\n",
       "      <td>1.902723e+09</td>\n",
       "      <td>very popular</td>\n",
       "      <td>highly_rated</td>\n",
       "    </tr>\n",
       "    <tr>\n",
       "      <th>4</th>\n",
       "      <td>9.335014</td>\n",
       "      <td>190000000</td>\n",
       "      <td>1506249360</td>\n",
       "      <td>Furious 7</td>\n",
       "      <td>James Wan</td>\n",
       "      <td>137</td>\n",
       "      <td>Action|Crime|Thriller</td>\n",
       "      <td>Universal Pictures|Original Film|Media Rights ...</td>\n",
       "      <td>1970-01-01 00:00:00.000002015</td>\n",
       "      <td>2947</td>\n",
       "      <td>7.3</td>\n",
       "      <td>2015</td>\n",
       "      <td>1.747999e+08</td>\n",
       "      <td>1.385749e+09</td>\n",
       "      <td>very popular</td>\n",
       "      <td>highly_rated</td>\n",
       "    </tr>\n",
       "    <tr>\n",
       "      <th>5</th>\n",
       "      <td>9.110700</td>\n",
       "      <td>135000000</td>\n",
       "      <td>532950503</td>\n",
       "      <td>The Revenant</td>\n",
       "      <td>Alejandro GonzÃ¡lez IÃ±Ã¡rritu</td>\n",
       "      <td>156</td>\n",
       "      <td>Western|Drama|Adventure|Thriller</td>\n",
       "      <td>Regency Enterprises|Appian Way|CatchPlay|Anony...</td>\n",
       "      <td>1970-01-01 00:00:00.000002015</td>\n",
       "      <td>3929</td>\n",
       "      <td>7.2</td>\n",
       "      <td>2015</td>\n",
       "      <td>1.241999e+08</td>\n",
       "      <td>4.903142e+08</td>\n",
       "      <td>very popular</td>\n",
       "      <td>highly_rated</td>\n",
       "    </tr>\n",
       "    <tr>\n",
       "      <th>7</th>\n",
       "      <td>7.667400</td>\n",
       "      <td>108000000</td>\n",
       "      <td>595380321</td>\n",
       "      <td>The Martian</td>\n",
       "      <td>Ridley Scott</td>\n",
       "      <td>141</td>\n",
       "      <td>Drama|Adventure|Science Fiction</td>\n",
       "      <td>Twentieth Century Fox Film Corporation|Scott F...</td>\n",
       "      <td>1970-01-01 00:00:00.000002015</td>\n",
       "      <td>4572</td>\n",
       "      <td>7.6</td>\n",
       "      <td>2015</td>\n",
       "      <td>9.935996e+07</td>\n",
       "      <td>5.477497e+08</td>\n",
       "      <td>very popular</td>\n",
       "      <td>highly_rated</td>\n",
       "    </tr>\n",
       "  </tbody>\n",
       "</table>\n",
       "</div>"
      ],
      "text/plain": [
       "   popularity     budget     revenue                original_title  \\\n",
       "1   28.419936  150000000   378436354            Mad Max: Fury Road   \n",
       "3   11.173104  200000000  2068178225  Star Wars: The Force Awakens   \n",
       "4    9.335014  190000000  1506249360                     Furious 7   \n",
       "5    9.110700  135000000   532950503                  The Revenant   \n",
       "7    7.667400  108000000   595380321                   The Martian   \n",
       "\n",
       "                         director  runtime  \\\n",
       "1                   George Miller      120   \n",
       "3                     J.J. Abrams      136   \n",
       "4                       James Wan      137   \n",
       "5  Alejandro GonzÃ¡lez IÃ±Ã¡rritu      156   \n",
       "7                    Ridley Scott      141   \n",
       "\n",
       "                                      genres  \\\n",
       "1  Action|Adventure|Science Fiction|Thriller   \n",
       "3   Action|Adventure|Science Fiction|Fantasy   \n",
       "4                      Action|Crime|Thriller   \n",
       "5           Western|Drama|Adventure|Thriller   \n",
       "7            Drama|Adventure|Science Fiction   \n",
       "\n",
       "                                production_companies  \\\n",
       "1  Village Roadshow Pictures|Kennedy Miller Produ...   \n",
       "3          Lucasfilm|Truenorth Productions|Bad Robot   \n",
       "4  Universal Pictures|Original Film|Media Rights ...   \n",
       "5  Regency Enterprises|Appian Way|CatchPlay|Anony...   \n",
       "7  Twentieth Century Fox Film Corporation|Scott F...   \n",
       "\n",
       "                   release_date  vote_count  vote_average  release_year  \\\n",
       "1 1970-01-01 00:00:00.000002015        6185           7.1          2015   \n",
       "3 1970-01-01 00:00:00.000002015        5292           7.5          2015   \n",
       "4 1970-01-01 00:00:00.000002015        2947           7.3          2015   \n",
       "5 1970-01-01 00:00:00.000002015        3929           7.2          2015   \n",
       "7 1970-01-01 00:00:00.000002015        4572           7.6          2015   \n",
       "\n",
       "     budget_adj   revenue_adj popularity_levels rating_levels  \n",
       "1  1.379999e+08  3.481613e+08      very popular  highly_rated  \n",
       "3  1.839999e+08  1.902723e+09      very popular  highly_rated  \n",
       "4  1.747999e+08  1.385749e+09      very popular  highly_rated  \n",
       "5  1.241999e+08  4.903142e+08      very popular  highly_rated  \n",
       "7  9.935996e+07  5.477497e+08      very popular  highly_rated  "
      ]
     },
     "execution_count": 32,
     "metadata": {},
     "output_type": "execute_result"
    }
   ],
   "source": [
    "#lets create a dataframe of highly reated movies\n",
    "hi_movies = movies[movies.rating_levels == 'highly_rated']\n",
    "hi_movies.head()"
   ]
  },
  {
   "cell_type": "code",
   "execution_count": 33,
   "metadata": {},
   "outputs": [
    {
     "data": {
      "text/plain": [
       "Drama                   252\n",
       "Documentary             134\n",
       "Drama|Romance            91\n",
       "Comedy                   85\n",
       "Comedy|Drama             78\n",
       "Crime|Drama              40\n",
       "Comedy|Drama|Romance     36\n",
       "Documentary|Music        32\n",
       "Animation|Family         32\n",
       "Drama|Comedy             29\n",
       "Crime|Drama|Thriller     26\n",
       "Drama|History            24\n",
       "Drama|Crime              23\n",
       "Comedy|Romance           22\n",
       "Drama|Thriller           18\n",
       "Name: genres, dtype: int64"
      ]
     },
     "execution_count": 33,
     "metadata": {},
     "output_type": "execute_result"
    }
   ],
   "source": [
    "#lets group by genres\n",
    "top_genres = hi_movies.genres.value_counts().head(15)\n",
    "top_genres"
   ]
  },
  {
   "cell_type": "code",
   "execution_count": 34,
   "metadata": {},
   "outputs": [
    {
     "data": {
      "image/png": "[encoded data removed]",
      "text/plain": [
       "<matplotlib.figure.Figure at 0x7fe761e08b70>"
      ]
     },
     "metadata": {
      "needs_background": "light"
     },
     "output_type": "display_data"
    }
   ],
   "source": [
    "figsize=(16,16)\n",
    "plt.barh(top_genres.index,top_genres)\n",
    "plt.title('Top rated genres')\n",
    "plt.xlabel('Counts')\n",
    "plt.ylabel('genre');"
   ]
  },
  {
   "cell_type": "markdown",
   "metadata": {},
   "source": [
    "we can conclude that drama is the most rated genre followed by documentary."
   ]
  },
  {
   "cell_type": "markdown",
   "metadata": {},
   "source": [
    "# Question 6: Does the length of a movie affect its rating?"
   ]
  },
  {
   "cell_type": "code",
   "execution_count": 35,
   "metadata": {},
   "outputs": [
    {
     "data": {
      "text/plain": [
       "count    9806.000000\n",
       "mean      102.744340\n",
       "std        28.134561\n",
       "min         0.000000\n",
       "25%        90.000000\n",
       "50%       100.000000\n",
       "75%       112.000000\n",
       "max       877.000000\n",
       "Name: runtime, dtype: float64"
      ]
     },
     "execution_count": 35,
     "metadata": {},
     "output_type": "execute_result"
    }
   ],
   "source": [
    "movies.describe().runtime"
   ]
  },
  {
   "cell_type": "code",
   "execution_count": 36,
   "metadata": {},
   "outputs": [],
   "source": [
    "#lets discard movies that have a runtime of 0\n",
    "#but lets make a copy first of our dataset\n",
    "movies2 = movies.copy()\n",
    "movies2 = movies2[movies.runtime != 0.0]#we are negating to remove 0 in runtime"
   ]
  },
  {
   "cell_type": "code",
   "execution_count": 37,
   "metadata": {},
   "outputs": [
    {
     "data": {
      "text/html": [
       "<div>\n",
       "<style scoped>\n",
       "    .dataframe tbody tr th:only-of-type {\n",
       "        vertical-align: middle;\n",
       "    }\n",
       "\n",
       "    .dataframe tbody tr th {\n",
       "        vertical-align: top;\n",
       "    }\n",
       "\n",
       "    .dataframe thead th {\n",
       "        text-align: right;\n",
       "    }\n",
       "</style>\n",
       "<table border=\"1\" class=\"dataframe\">\n",
       "  <thead>\n",
       "    <tr style=\"text-align: right;\">\n",
       "      <th></th>\n",
       "      <th>popularity</th>\n",
       "      <th>budget</th>\n",
       "      <th>revenue</th>\n",
       "      <th>original_title</th>\n",
       "      <th>director</th>\n",
       "      <th>runtime</th>\n",
       "      <th>genres</th>\n",
       "      <th>production_companies</th>\n",
       "      <th>release_date</th>\n",
       "      <th>vote_count</th>\n",
       "      <th>vote_average</th>\n",
       "      <th>release_year</th>\n",
       "      <th>budget_adj</th>\n",
       "      <th>revenue_adj</th>\n",
       "      <th>popularity_levels</th>\n",
       "      <th>rating_levels</th>\n",
       "    </tr>\n",
       "  </thead>\n",
       "  <tbody>\n",
       "  </tbody>\n",
       "</table>\n",
       "</div>"
      ],
      "text/plain": [
       "Empty DataFrame\n",
       "Columns: [popularity, budget, revenue, original_title, director, runtime, genres, production_companies, release_date, vote_count, vote_average, release_year, budget_adj, revenue_adj, popularity_levels, rating_levels]\n",
       "Index: []"
      ]
     },
     "execution_count": 37,
     "metadata": {},
     "output_type": "execute_result"
    }
   ],
   "source": [
    "#lets confirm if we have 0\n",
    "movies2[movies2.runtime == 0]"
   ]
  },
  {
   "cell_type": "code",
   "execution_count": 38,
   "metadata": {},
   "outputs": [
    {
     "data": {
      "text/plain": [
       "100.0"
      ]
     },
     "execution_count": 38,
     "metadata": {},
     "output_type": "execute_result"
    }
   ],
   "source": [
    "#lets find the median and divide the data into two groups\n",
    "movies2.runtime.median()"
   ]
  },
  {
   "cell_type": "code",
   "execution_count": 39,
   "metadata": {},
   "outputs": [],
   "source": [
    "#using a query to find the short group\n",
    "short = movies2.query('runtime < 100')"
   ]
  },
  {
   "cell_type": "code",
   "execution_count": 40,
   "metadata": {},
   "outputs": [
    {
     "data": {
      "text/plain": [
       "5.7161746617466171"
      ]
     },
     "execution_count": 40,
     "metadata": {},
     "output_type": "execute_result"
    }
   ],
   "source": [
    "#finding the average between the group\n",
    "short_mean= short.vote_average.mean()\n",
    "short_mean"
   ]
  },
  {
   "cell_type": "code",
   "execution_count": 41,
   "metadata": {},
   "outputs": [],
   "source": [
    "#using a query to find the long group\n",
    "long = movies2.query('runtime > 100')"
   ]
  },
  {
   "cell_type": "code",
   "execution_count": 42,
   "metadata": {},
   "outputs": [
    {
     "data": {
      "text/plain": [
       "6.2361014744145713"
      ]
     },
     "execution_count": 42,
     "metadata": {},
     "output_type": "execute_result"
    }
   ],
   "source": [
    "#finding the average between the group\n",
    "long_mean = long.vote_average.mean()\n",
    "long_mean"
   ]
  },
  {
   "cell_type": "code",
   "execution_count": 43,
   "metadata": {},
   "outputs": [
    {
     "data": {
      "image/png": "[encoded data removed]",
      "text/plain": [
       "<matplotlib.figure.Figure at 0x7fe761e329e8>"
      ]
     },
     "metadata": {
      "needs_background": "light"
     },
     "output_type": "display_data"
    }
   ],
   "source": [
    "locations = [2, 1]\n",
    "heights = [long_mean, short_mean]\n",
    "labels = ['long', 'short']\n",
    "plt.bar(locations, heights, tick_label=labels)\n",
    "plt.title('Average Rating by Runtime')\n",
    "plt.xlabel('Runtime')\n",
    "plt.ylabel('Average Rating');"
   ]
  },
  {
   "cell_type": "markdown",
   "metadata": {},
   "source": [
    "we can generally conclude that longer movies often achieve higher ratings compared to those that have shorter durations."
   ]
  },
  {
   "cell_type": "markdown",
   "metadata": {},
   "source": [
    "<a id='conclusions'></a>\n",
    "## Conclusions\n",
    "I started by loading the data into my jupyter notebook, i then dug into the general properties of the data like the shape, the number of\n",
    "columns it contains and its summary statistics.\n",
    "I went further to clean the data of any nulls present, duplicates and wrong data types. I then started working on the data\n",
    "to answer the quetions I asked.\n",
    "I have worked on the assumption that removing some rows which have null data in some columns does not affect my analysis at all.\n",
    "And by general reasoning, I have removed rows with zero runtime since that is not sensible. \n",
    "The sample of data after removing nulls is not generally representitive of the whole population, same results as when the data is\n",
    "complete might not be observed.\n",
    "I have come up with these conclusions to the questions found in the introduction part:\n",
    "    \n",
    "    Question 1 which are the top popular movies?\n",
    "    \n",
    "    Jurasic World is the most popular movie followed by Mad Max. In the analysis I have shown the top 30 popular movies.\n",
    "    \n",
    "    Question 2 Which are the top years in terms of movies release?\n",
    "    2014 was the year with most movie releases and the trend in movie release generally increases from 2001-2014.\n",
    "    \n",
    "    Question 3  Who are the top directors in movies release?\n",
    "    Wood Allen is the top movie director in terms of movie releases, he has a record 42 movies\n",
    "    released so far. I have shown top 15 directors who have contributed to movie release.\n",
    "    \n",
    "    Question 4 Do popular movies happen to be top rated movies?\n",
    "    From visualization it is clearly noted that popular movies tend to being among the top\n",
    "    rated movies.\n",
    "    \n",
    "    Question 5 Which are the highly rated genres?\n",
    "    Drama is the best rated genre followed by documentary. I have shown further top 15 genres.\n",
    "    \n",
    "    Question 6  Does the length of a movie affect its rating?\n",
    "    Movies with longer durations tend to receive higher ratings as compared to those with shorter durations.\n",
    "    \n",
    "    LIMITATIONS \n",
    "    1.The data is not representative of the whole population. This is due to the null values in the data which needs to be\n",
    "    cleaned, it has an effect on the insights generated from the data. If the data was to be free of null values, the \n",
    "    conclusions drawn from it might be different. \n",
    "    \n",
    "    2. The data I used was not enough to make very conclusive results. For example the runtime of some movies is zero, so\n",
    "    i got rid of them to come up with my conclusions. We can't be able to watch a movie that does not span even a minutes \n",
    "    longer.\n",
    "    \n",
    "    3. The data also contains many movies with zero budgets. For sure no movie cannot generate a cost for releasing it. \n",
    "    So if you are to answer questions regarding budgets the data may be misleading, unless we clear of zero costs. This also\n",
    "    distorts some features of the data, as conclusions that will be generated do not include some movies."
   ]
  },
  {
   "cell_type": "markdown",
   "metadata": {},
   "source": [
    "# References\n",
    "\n",
    "w3schools:https://www.w3schools.com/python/pandas/default.asp\n",
    "        \n",
    "pandas official documentantion:https://pandas.pydata.org/docs/\n",
    "\n",
    "jovian:https://jovian.ai/learn/data-analysis-with-python-zero-to-pandas"
   ]
  }
 ],
 "metadata": {
  "kernelspec": {
   "display_name": "Python 3",
   "language": "python",
   "name": "python3"
  },
  "language_info": {
   "codemirror_mode": {
    "name": "ipython",
    "version": 3
   },
   "file_extension": ".py",
   "mimetype": "text/x-python",
   "name": "python",
   "nbconvert_exporter": "python",
   "pygments_lexer": "ipython3",
   "version": "3.6.3"
  }
 },
 "nbformat": 4,
 "nbformat_minor": 2
}
